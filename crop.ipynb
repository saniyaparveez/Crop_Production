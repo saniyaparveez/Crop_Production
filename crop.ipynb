{
 "cells": [
  {
   "cell_type": "markdown",
   "metadata": {},
   "source": [
    "### Predicting the crop production"
   ]
  },
  {
   "cell_type": "code",
   "execution_count": 169,
   "metadata": {},
   "outputs": [],
   "source": [
    "import pandas as pd\n",
    "import numpy as np\n",
    "import matplotlib.pyplot as plt\n",
    "%matplotlib inline\n",
    "import seaborn as sns"
   ]
  },
  {
   "cell_type": "code",
   "execution_count": 170,
   "metadata": {},
   "outputs": [
    {
     "data": {
      "text/html": [
       "<div>\n",
       "<style scoped>\n",
       "    .dataframe tbody tr th:only-of-type {\n",
       "        vertical-align: middle;\n",
       "    }\n",
       "\n",
       "    .dataframe tbody tr th {\n",
       "        vertical-align: top;\n",
       "    }\n",
       "\n",
       "    .dataframe thead th {\n",
       "        text-align: right;\n",
       "    }\n",
       "</style>\n",
       "<table border=\"1\" class=\"dataframe\">\n",
       "  <thead>\n",
       "    <tr style=\"text-align: right;\">\n",
       "      <th></th>\n",
       "      <th>Year</th>\n",
       "      <th>Dist</th>\n",
       "      <th>Precipitation</th>\n",
       "      <th>Min_Temp</th>\n",
       "      <th>Cloud_Cover</th>\n",
       "      <th>Vapour_pressure</th>\n",
       "      <th>Area</th>\n",
       "      <th>Production</th>\n",
       "    </tr>\n",
       "  </thead>\n",
       "  <tbody>\n",
       "    <tr>\n",
       "      <td>0</td>\n",
       "      <td>2019</td>\n",
       "      <td>Bidar</td>\n",
       "      <td>622.438</td>\n",
       "      <td>27.643</td>\n",
       "      <td>35.241</td>\n",
       "      <td>17.9530</td>\n",
       "      <td>4709</td>\n",
       "      <td>9043</td>\n",
       "    </tr>\n",
       "    <tr>\n",
       "      <td>1</td>\n",
       "      <td>2020</td>\n",
       "      <td>Bangalore</td>\n",
       "      <td>748.194</td>\n",
       "      <td>25.263</td>\n",
       "      <td>49.134</td>\n",
       "      <td>21.5600</td>\n",
       "      <td>18790</td>\n",
       "      <td>20981</td>\n",
       "    </tr>\n",
       "    <tr>\n",
       "      <td>2</td>\n",
       "      <td>2021</td>\n",
       "      <td>Belgaum</td>\n",
       "      <td>1334.194</td>\n",
       "      <td>21.254</td>\n",
       "      <td>39.728</td>\n",
       "      <td>22.5509</td>\n",
       "      <td>4398</td>\n",
       "      <td>6054</td>\n",
       "    </tr>\n",
       "    <tr>\n",
       "      <td>3</td>\n",
       "      <td>2022</td>\n",
       "      <td>Bellary</td>\n",
       "      <td>574.325</td>\n",
       "      <td>26.407</td>\n",
       "      <td>38.466</td>\n",
       "      <td>20.0080</td>\n",
       "      <td>3768</td>\n",
       "      <td>5903</td>\n",
       "    </tr>\n",
       "    <tr>\n",
       "      <td>4</td>\n",
       "      <td>2023</td>\n",
       "      <td>Kolar</td>\n",
       "      <td>724.545</td>\n",
       "      <td>25.464</td>\n",
       "      <td>47.029</td>\n",
       "      <td>20.6300</td>\n",
       "      <td>2278</td>\n",
       "      <td>2759</td>\n",
       "    </tr>\n",
       "  </tbody>\n",
       "</table>\n",
       "</div>"
      ],
      "text/plain": [
       "   Year       Dist  Precipitation  Min_Temp  Cloud_Cover  Vapour_pressure  \\\n",
       "0  2019      Bidar        622.438    27.643       35.241          17.9530   \n",
       "1  2020  Bangalore        748.194    25.263       49.134          21.5600   \n",
       "2  2021    Belgaum       1334.194    21.254       39.728          22.5509   \n",
       "3  2022    Bellary        574.325    26.407       38.466          20.0080   \n",
       "4  2023      Kolar        724.545    25.464       47.029          20.6300   \n",
       "\n",
       "    Area  Production  \n",
       "0   4709        9043  \n",
       "1  18790       20981  \n",
       "2   4398        6054  \n",
       "3   3768        5903  \n",
       "4   2278        2759  "
      ]
     },
     "execution_count": 170,
     "metadata": {},
     "output_type": "execute_result"
    }
   ],
   "source": [
    "data = pd.read_csv('cdataset.csv')\n",
    "data.head()"
   ]
  },
  {
   "cell_type": "code",
   "execution_count": 171,
   "metadata": {},
   "outputs": [
    {
     "data": {
      "image/png": "[encoded data removed]",
      "text/plain": [
       "<Figure size 432x288 with 1 Axes>"
      ]
     },
     "metadata": {
      "needs_background": "light"
     },
     "output_type": "display_data"
    }
   ],
   "source": [
    "#To check the correlation\n",
    "plt.scatter(data['Precipitation'],data['Production'],color='red')\n",
    "plt.title(\"Precipitation Vs Production\")\n",
    "plt.xlabel(\"Precipitation\")\n",
    "plt.ylabel(\"Production\")\n",
    "plt.grid()\n",
    "plt.show()"
   ]
  },
  {
   "cell_type": "code",
   "execution_count": 172,
   "metadata": {},
   "outputs": [
    {
     "data": {
      "image/png": "[encoded data removed]",
      "text/plain": [
       "<Figure size 432x288 with 1 Axes>"
      ]
     },
     "metadata": {
      "needs_background": "light"
     },
     "output_type": "display_data"
    },
    {
     "data": {
      "image/png": "[encoded data removed]",
      "text/plain": [
       "<Figure size 432x288 with 1 Axes>"
      ]
     },
     "metadata": {
      "needs_background": "light"
     },
     "output_type": "display_data"
    }
   ],
   "source": [
    "plt.scatter(data['Min_Temp'],data['Production'],color='green')\n",
    "plt.title(\"Minimum Temperature Vs Production\")\n",
    "plt.xlabel(\"Minimum Temperature\")\n",
    "plt.ylabel(\"Production\")\n",
    "plt.grid()\n",
    "plt.show()\n",
    "\n",
    "plt.scatter(data['Vapour_pressure'],data['Production'],color='blue')\n",
    "plt.title(\"Vapour pressure  Vs Production\")\n",
    "plt.xlabel(\"Vapour Pressure\")\n",
    "plt.ylabel(\"Production\")\n",
    "plt.grid()\n",
    "plt.show()\n"
   ]
  },
  {
   "cell_type": "code",
   "execution_count": 173,
   "metadata": {},
   "outputs": [],
   "source": [
    "from sklearn.linear_model import LinearRegression\n",
    "from sklearn.model_selection import train_test_split\n",
    "from sklearn.metrics import r2_score\n"
   ]
  },
  {
   "cell_type": "code",
   "execution_count": 174,
   "metadata": {},
   "outputs": [
    {
     "data": {
      "text/plain": [
       "array([ 3834.0464198 ,  4561.42499993,  5431.30172296,  5231.37895532,\n",
       "       19542.87154515,  2309.10360706])"
      ]
     },
     "execution_count": 174,
     "metadata": {},
     "output_type": "execute_result"
    }
   ],
   "source": [
    "\n",
    "X = data[['Area']] \n",
    "Y = data['Production']\n",
    " \n",
    "x_train,x_test,y_train,y_test=train_test_split(X,Y, test_size=0.3, random_state=1)\n",
    "reg = LinearRegression()\n",
    "reg.fit(x_train,y_train)\n",
    "  \n",
    "# prediction\n",
    "y_pred=reg.predict(x_test)\n",
    "y_pred"
   ]
  },
  {
   "cell_type": "code",
   "execution_count": 175,
   "metadata": {},
   "outputs": [
    {
     "name": "stdout",
     "output_type": "stream",
     "text": [
      "\n",
      "R-squared score:  0.7865979189963656 \n",
      "\n"
     ]
    }
   ],
   "source": [
    "# regression Coefficients\n",
    "#print('\\nCoefficients: ', reg.coef_,'\\n')\n",
    "\n",
    "# R-squared score\n",
    "print('\\nR-squared score: ', r2_score(y_test,y_pred),'\\n')"
   ]
  },
  {
   "cell_type": "code",
   "execution_count": 176,
   "metadata": {},
   "outputs": [
    {
     "name": "stdout",
     "output_type": "stream",
     "text": [
      "MAE: 1304.2693066798854\n",
      "MSE: 3483426.7579188417\n",
      "RMSE: 1866.3940521548072\n"
     ]
    }
   ],
   "source": [
    "#regression matrics\n",
    "from sklearn import metrics\n",
    "print('MAE:',metrics.mean_absolute_error(y_test,y_pred))\n",
    "print('MSE:',metrics.mean_squared_error(y_test,y_pred))\n",
    "print('RMSE:',np.sqrt(metrics.mean_squared_error(y_test,y_pred)))"
   ]
  },
  {
   "cell_type": "code",
   "execution_count": 177,
   "metadata": {},
   "outputs": [
    {
     "data": {
      "image/png": "[encoded data removed]",
      "text/plain": [
       "<Figure size 432x288 with 1 Axes>"
      ]
     },
     "metadata": {
      "needs_background": "light"
     },
     "output_type": "display_data"
    }
   ],
   "source": [
    "# Plot it on the regression line \n",
    "plt.scatter(x_test,y_test, color='orange')\n",
    "plt.plot(x_test,y_pred, color='blue')\n",
    "plt.xlabel('Area')\n",
    "plt.ylabel('Production')\n",
    "\n",
    "plt.show()\n"
   ]
  },
  {
   "cell_type": "code",
   "execution_count": 178,
   "metadata": {},
   "outputs": [],
   "source": [
    "# in the above fig we can say that outliers are removed and the model holds good"
   ]
  },
  {
   "cell_type": "code",
   "execution_count": 179,
   "metadata": {},
   "outputs": [],
   "source": [
    "# we say that as the area increases even the production(yield) also increases"
   ]
  },
  {
   "cell_type": "code",
   "execution_count": 180,
   "metadata": {},
   "outputs": [
    {
     "data": {
      "text/plain": [
       "<matplotlib.axes._subplots.AxesSubplot at 0x632e610>"
      ]
     },
     "execution_count": 180,
     "metadata": {},
     "output_type": "execute_result"
    },
    {
     "data": {
      "image/png": "[encoded data removed]",
      "text/plain": [
       "<Figure size 432x288 with 1 Axes>"
      ]
     },
     "metadata": {
      "needs_background": "light"
     },
     "output_type": "display_data"
    }
   ],
   "source": [
    "sns.distplot((y_test-y_pred))"
   ]
  },
  {
   "cell_type": "code",
   "execution_count": 181,
   "metadata": {},
   "outputs": [],
   "source": [
    "#we can say that there is high yield"
   ]
  },
  {
   "cell_type": "code",
   "execution_count": 182,
   "metadata": {},
   "outputs": [
    {
     "data": {
      "text/html": [
       "<div>\n",
       "<style scoped>\n",
       "    .dataframe tbody tr th:only-of-type {\n",
       "        vertical-align: middle;\n",
       "    }\n",
       "\n",
       "    .dataframe tbody tr th {\n",
       "        vertical-align: top;\n",
       "    }\n",
       "\n",
       "    .dataframe thead th {\n",
       "        text-align: right;\n",
       "    }\n",
       "</style>\n",
       "<table border=\"1\" class=\"dataframe\">\n",
       "  <thead>\n",
       "    <tr style=\"text-align: right;\">\n",
       "      <th></th>\n",
       "      <th>Coeff</th>\n",
       "    </tr>\n",
       "  </thead>\n",
       "  <tbody>\n",
       "    <tr>\n",
       "      <td>Area</td>\n",
       "      <td>1.063419</td>\n",
       "    </tr>\n",
       "  </tbody>\n",
       "</table>\n",
       "</div>"
      ],
      "text/plain": [
       "         Coeff\n",
       "Area  1.063419"
      ]
     },
     "execution_count": 182,
     "metadata": {},
     "output_type": "execute_result"
    }
   ],
   "source": [
    "#coefficient of linear regression\n",
    "cfd=pd.DataFrame(reg.coef_,X.columns,columns=['Coeff'])\n",
    "cfd"
   ]
  },
  {
   "cell_type": "code",
   "execution_count": 192,
   "metadata": {},
   "outputs": [
    {
     "name": "stdout",
     "output_type": "stream",
     "text": [
      " Year: 2019 -\n",
      " Predicted Production: [4018.31403916] ,  Actual Production: [9043] ,  Error:  [-5024.68596084]\n",
      " Year: 2020 -\n",
      " Predicted Production: [20602.04487272] ,  Actual Production: [20981] ,  Error:  [-378.95512728]\n",
      " Year: 2021 -\n",
      " Predicted Production: [13133.02639204] ,  Actual Production: [6054] ,  Error:  [7079.02639204]\n",
      " Year: 2022 -\n",
      " Predicted Production: [5651.00436698] ,  Actual Production: [5903] ,  Error:  [-251.99563302]\n",
      " Year: 2023 -\n",
      " Predicted Production: [5650.08822077] ,  Actual Production: [2759] ,  Error:  [2891.08822077]\n",
      " Year: 2024 -\n",
      " Predicted Production: [6150.21010175] ,  Actual Production: [10986] ,  Error:  [-4835.78989825]\n",
      " Year: 2025 -\n",
      " Predicted Production: [4089.34216346] ,  Actual Production: [3952] ,  Error:  [137.34216346]\n",
      " Year: 2026 -\n",
      " Predicted Production: [-1465.93283751] ,  Actual Production: [2958] ,  Error:  [-4423.93283751]\n",
      " Year: 2027 -\n",
      " Predicted Production: [6039.46229762] ,  Actual Production: [3325] ,  Error:  [2714.46229762]\n",
      " Year: 2028 -\n",
      " Predicted Production: [11020.62376775] ,  Actual Production: [9865] ,  Error:  [1155.62376775]\n",
      " Year: 2029 -\n",
      " Predicted Production: [4104.28445854] ,  Actual Production: [4120] ,  Error:  [-15.71554146]\n",
      " Year: 2030 -\n",
      " Predicted Production: [10499.11675134] ,  Actual Production: [18957] ,  Error:  [-8457.88324866]\n",
      " Year: 2031 -\n",
      " Predicted Production: [1338.59302667] ,  Actual Production: [4539] ,  Error:  [-3200.40697333]\n",
      " Year: 2032 -\n",
      " Predicted Production: [4537.94420761] ,  Actual Production: [6145] ,  Error:  [-1607.05579239]\n",
      " Year: 2033 -\n",
      " Predicted Production: [18483.89290568] ,  Actual Production: [15362] ,  Error:  [3121.89290568]\n",
      " Year: 2034 -\n",
      " Predicted Production: [15727.42399173] ,  Actual Production: [7586] ,  Error:  [8141.42399173]\n",
      " Year: 2035 -\n",
      " Predicted Production: [3562.80611094] ,  Actual Production: [1865] ,  Error:  [1697.80611094]\n"
     ]
    }
   ],
   "source": [
    "error=[] #list \n",
    "year=2019\n",
    "for i in range(0,17):\n",
    "  \n",
    "  X = data[['Precipitation','Min_Temp','Cloud_Cover','Vapour_pressure','Area']].drop(i)\n",
    "  Y = data['Production'].drop(i)\n",
    "  x_train,x_test,y_train,y_test=train_test_split(X,Y, test_size=0.2, random_state=1)\n",
    "  reg= LinearRegression()\n",
    "  reg.fit(x_train,y_train)\n",
    "\n",
    "  y_pred=reg.predict([data.loc[i,'Precipitation':'Area']])\n",
    "  y_pred\n",
    "  \n",
    "  print(' Year:',year,'-\\n','Predicted Production:',y_pred,', ','Actual Production:',[data.loc[i,'Production']],', ','Error: ',y_pred-data.loc[i,'Production'])\n",
    "  error.append(float(y_pred-data.loc[i,'Production']))\n",
    "  year+=1\n",
    "  "
   ]
  },
  {
   "cell_type": "code",
   "execution_count": null,
   "metadata": {},
   "outputs": [],
   "source": []
  },
  {
   "cell_type": "code",
   "execution_count": null,
   "metadata": {},
   "outputs": [],
   "source": []
  }
 ],
 "metadata": {
  "kernelspec": {
   "display_name": "Python 3",
   "language": "python",
   "name": "python3"
  },
  "language_info": {
   "codemirror_mode": {
    "name": "ipython",
    "version": 3
   },
   "file_extension": ".py",
   "mimetype": "text/x-python",
   "name": "python",
   "nbconvert_exporter": "python",
   "pygments_lexer": "ipython3",
   "version": "3.7.1"
  }
 },
 "nbformat": 4,
 "nbformat_minor": 2
}
